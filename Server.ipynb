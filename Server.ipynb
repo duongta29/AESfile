{
 "cells": [
  {
   "cell_type": "code",
   "execution_count": 1,
   "id": "97f4b7f6",
   "metadata": {},
   "outputs": [
    {
     "name": "stdout",
     "output_type": "stream",
     "text": [
      "Requirement already satisfied: numpy==1.18.5 in c:\\users\\admin\\anaconda3\\envs\\py38\\lib\\site-packages (from -r requirements.txt (line 1)) (1.18.5)\n",
      "Requirement already satisfied: opencv-python==4.1.2.30 in c:\\users\\admin\\anaconda3\\envs\\py38\\lib\\site-packages (from -r requirements.txt (line 2)) (4.1.2.30)\n",
      "Requirement already satisfied: sockets==1.0.0 in c:\\users\\admin\\anaconda3\\envs\\py38\\lib\\site-packages (from -r requirements.txt (line 3)) (1.0.0)\n",
      "Requirement already satisfied: pycryptodome==3.12.0 in c:\\users\\admin\\anaconda3\\envs\\py38\\lib\\site-packages (from -r requirements.txt (line 4)) (3.12.0)\n",
      "Note: you may need to restart the kernel to use updated packages.\n"
     ]
    }
   ],
   "source": [
    "%pip install -r requirements.txt"
   ]
  },
  {
   "cell_type": "code",
   "execution_count": 2,
   "id": "059c1275",
   "metadata": {},
   "outputs": [],
   "source": [
    "import socket\n",
    "import numpy as np\n",
    "from hashlib import md5\n",
    "from Crypto.Cipher import AES\n",
    "import os\n",
    "import glob\n",
    "import time\n",
    "from Crypto import Random\n",
    "from os import urandom\n",
    "import tkinter as tk\n",
    "from tkinter import *"
   ]
  },
  {
   "cell_type": "code",
   "execution_count": 3,
   "id": "163a5663",
   "metadata": {},
   "outputs": [],
   "source": [
    "HOST='localhost'\n",
    "PORT=8000\n",
    "# WIDTH = 960\n",
    "# HEIGHT = 540\n",
    "s = socket.socket(socket.AF_INET, socket.SOCK_STREAM)\n",
    "s.bind((HOST, PORT))\n",
    "s.listen(2)"
   ]
  },
  {
   "cell_type": "code",
   "execution_count": 4,
   "id": "d17008fd",
   "metadata": {},
   "outputs": [],
   "source": [
    "def recv_all(sc, length):\n",
    "    data = sc.recv(length)\n",
    "    while True:\n",
    "        miss_len_data = length - len(data)\n",
    "        if miss_len_data==0:\n",
    "            break\n",
    "        data += sc.recv(miss_len_data)\n",
    "    return data\n",
    "def generateAESKey(key_string, len_key):\n",
    "    '''Generate 128/192/256 bit key from any key'''\n",
    "    key = bytes(key_string,\"utf8\")\n",
    "    while len(key)<len_key:\n",
    "        key = key + key\n",
    "    return key[:len_key]\n",
    "\n",
    "def make_folder(folder_name):\n",
    "    path_f = os.path.abspath('')\n",
    "    if os.path.isdir(path_f+\"/\"+folder_name) == False:\n",
    "        os.mkdir(path_f+\"/\"+folder_name)\n",
    "    list_folder = glob.glob(path_f+\"/\"+folder_name+\"/*\")\n",
    "    max=0\n",
    "    for i in list_folder:\n",
    "        try:\n",
    "            num = int(i.split(\"-\")[1])\n",
    "            if(max<num): max = num\n",
    "        except: continue\n",
    "    path = path_f+\"/\"+folder_name+\"/data-\"+str(max+1)\n",
    "    os.mkdir(path)\n",
    "    return path\n",
    "\n",
    "# connect to client\n",
    "def connect(s):\n",
    "    print(\"Connecting...\")\n",
    "    try: \n",
    "        client, addr = s.accept()\n",
    "        print('Connected by', addr)\n",
    "        \n",
    "    except:\n",
    "        print(\"Run Client.py, Please\")\n",
    "    return client, addr\n"
   ]
  },
  {
   "cell_type": "code",
   "execution_count": 5,
   "id": "2625ea45",
   "metadata": {},
   "outputs": [],
   "source": [
    "def derive_key_and_iv(key, salt, key_length, iv_length):\n",
    "    d = d_i = b''\n",
    "    while len(d) < key_length + iv_length:\n",
    "        d_i = md5(d_i + key + salt).digest()\n",
    "        d += d_i\n",
    "    return d[:key_length], d[key_length:key_length+iv_length]\n",
    "\n",
    "def encrypt(in_file, out_file, key, key_length=32):\n",
    "    bs = AES.block_size #16 bytes\n",
    "    salt = urandom(bs) #return a string of random bytes\n",
    "    key, iv = derive_key_and_iv(key, salt, key_length, bs)\n",
    "    cipher = AES.new(key, AES.MODE_CBC, iv)\n",
    "    out_file.write(salt)\n",
    "    finished = False\n",
    "\n",
    "    while not finished:\n",
    "        chunk = in_file.read(1024 * bs) \n",
    "        if len(chunk) == 0 or len(chunk) % bs != 0:#final block/chunk is padded before encryption\n",
    "            padding_length = (bs - len(chunk) % bs) or bs\n",
    "            chunk += str.encode(padding_length * chr(padding_length))\n",
    "            finished = True\n",
    "        out_file.write(cipher.encrypt(chunk))\n",
    "        \n",
    "def decrypt(in_file, out_file, key, key_length=32):\n",
    "    bs = AES.block_size\n",
    "    salt = in_file.read(bs)\n",
    "    key, iv = derive_key_and_iv(key, salt, key_length, bs)\n",
    "    cipher = AES.new(key, AES.MODE_CBC, iv)\n",
    "    next_chunk = ''\n",
    "    finished = False\n",
    "    while not finished:\n",
    "        chunk, next_chunk = next_chunk, cipher.decrypt(in_file.read(1024 * bs))\n",
    "        if len(next_chunk) == 0:\n",
    "            padding_length = chunk[-1]\n",
    "            chunk = chunk[:-padding_length]\n",
    "            finished = True \n",
    "        out_file.write(bytes(x for x in chunk)) "
   ]
  },
  {
   "cell_type": "code",
   "execution_count": 6,
   "id": "7a274924",
   "metadata": {},
   "outputs": [],
   "source": [
    "def sendFile(client, filename, key, save_path):\n",
    "    print(\"Waiting for Client... \")\n",
    "    \n",
    "    # encode message\n",
    "    st_time = time.time()\n",
    "    \n",
    "    f_data_org = open(filename, 'rb')\n",
    "    f_data_enc = open(save_path+\"/Data-sent-to-client.txt\", \"wb\")\n",
    "    encrypt(f_data_org , f_data_enc , key)                             #encrypt\n",
    "    f_data_org.close()\n",
    "    f_data_enc.close()\n",
    "    enc_time = time.time()\n",
    "    print(\" - Encoded AES-%d (%.3f seconds)\" %(8*len('1'),enc_time-st_time))\n",
    "\n",
    "    # Send message\n",
    "    f_data_enc = f_data_enc = open(save_path+\"/Data-sent-to-client.txt\", \"rb\")\n",
    "    data_enc = f_data_enc.read()\n",
    "    f_data_enc.close()\n",
    "    data_enc = bytes(data_enc)\n",
    "#     print(len(data_enc))\n",
    "    print(\" - Sending data to client...\")\n",
    "    \n",
    "    client.send(data_enc) # send encoded data \n",
    "    recv_all(client,4) # wait server response\n",
    "    \n",
    "    print(\"   Client has received data! \" )\n",
    "    print(\"Done!\")"
   ]
  },
  {
   "cell_type": "code",
   "execution_count": 7,
   "id": "ff66c81a",
   "metadata": {},
   "outputs": [
    {
     "name": "stdout",
     "output_type": "stream",
     "text": [
      "Your AES key:  b'Group_6Group_6Gr'\n"
     ]
    }
   ],
   "source": [
    "key = \"Group_6\"\n",
    "\n",
    "key_AES = generateAESKey(key, 16) # create AES key (128bit)\n",
    "print(\"Your AES key: \", key_AES)"
   ]
  },
  {
   "cell_type": "code",
   "execution_count": 8,
   "id": "c3544432",
   "metadata": {},
   "outputs": [
    {
     "name": "stdout",
     "output_type": "stream",
     "text": [
      "Connecting...\n",
      "Connected by ('127.0.0.1', 59791)\n"
     ]
    }
   ],
   "source": [
    "client, addr = connect(s) "
   ]
  },
  {
   "cell_type": "code",
   "execution_count": 9,
   "id": "7126cbf9",
   "metadata": {},
   "outputs": [],
   "source": [
    "save_path = make_folder(\"Server_Folder\")"
   ]
  },
  {
   "cell_type": "code",
   "execution_count": 10,
   "id": "cd29b93c",
   "metadata": {},
   "outputs": [
    {
     "name": "stdout",
     "output_type": "stream",
     "text": [
      "Done write\n",
      "Waiting for Client... \n",
      " - Encoded AES-8 (0.009 seconds)\n",
      " - Sending data to client...\n",
      "   Client has received data! \n",
      "Done!\n",
      "Done write\n",
      "Waiting for Client... \n",
      " - Encoded AES-8 (0.002 seconds)\n",
      " - Sending data to client...\n"
     ]
    },
    {
     "name": "stderr",
     "output_type": "stream",
     "text": [
      "Exception in Tkinter callback\n",
      "Traceback (most recent call last):\n",
      "  File \"C:\\Users\\ADMIN\\anaconda3\\envs\\Py38\\lib\\tkinter\\__init__.py\", line 1883, in __call__\n",
      "    return self.func(*args)\n",
      "  File \"C:\\Users\\ADMIN\\AppData\\Local\\Temp\\ipykernel_2304\\1190475415.py\", line 22, in button_command\n",
      "    sendFile(client, filename, key_AES, save_path)\n",
      "  File \"C:\\Users\\ADMIN\\AppData\\Local\\Temp\\ipykernel_2304\\3563119902.py\", line 24, in sendFile\n",
      "    recv_all(client,4) # wait server response\n",
      "  File \"C:\\Users\\ADMIN\\AppData\\Local\\Temp\\ipykernel_2304\\3470271334.py\", line 2, in recv_all\n",
      "    data = sc.recv(length)\n",
      "ConnectionAbortedError: [WinError 10053] An established connection was aborted by the software in your host machine\n"
     ]
    }
   ],
   "source": [
    "window = Tk()\n",
    "window.title('Server Window')\n",
    "window.geometry('600x600')\n",
    "\n",
    "label = Label(window, text = \"Please enter your message !\", font = ('Arial', 10))\n",
    "label.place(x = 30, y = 20)\n",
    "# entry = Entry(window, width = 20, font = ('Arial', 10))\n",
    "# entry.place(x=30, y = 50)\n",
    "textBox=Text(window , height=4, width=50)\n",
    "textBox.place(x=30, y = 50)\n",
    "def data_org(mess):\n",
    "    f_data_org = open(save_path+\"/Data-org.txt\", \"w\")\n",
    "    f_data_org.write(mess)\n",
    "    f_data_org.close()\n",
    "    \n",
    "def button_command():\n",
    "    mess = textBox.get(\"1.0\",\"end-1c\")\n",
    "    data_org(mess)\n",
    "    textBox.delete(\"1.0\",\"end-1c\")\n",
    "    filename = save_path+\"/Data-org.txt\"\n",
    "    print(\"Done write\")\n",
    "    sendFile(client, filename, key_AES, save_path)\n",
    "        \n",
    "    \n",
    "button1 = Button(window, text = \"Done\", width = 10, height = 2, command = button_command)\n",
    "button1.place(x = 40, y = 150)\n",
    "\n",
    "\n",
    "#Lặp vô tận để hiển thị cửa sổ\n",
    "window.mainloop()"
   ]
  },
  {
   "cell_type": "code",
   "execution_count": 11,
   "id": "cde9045e",
   "metadata": {},
   "outputs": [],
   "source": [
    "# filename = save_path+\"/Data-org.txt\"\n",
    "# sendFile(client, filename, key_AES, save_path)"
   ]
  },
  {
   "cell_type": "code",
   "execution_count": null,
   "id": "5dc5ede3",
   "metadata": {},
   "outputs": [],
   "source": []
  },
  {
   "cell_type": "code",
   "execution_count": null,
   "id": "d5996a96",
   "metadata": {},
   "outputs": [],
   "source": []
  },
  {
   "cell_type": "code",
   "execution_count": null,
   "id": "1b754e05",
   "metadata": {},
   "outputs": [],
   "source": []
  },
  {
   "cell_type": "code",
   "execution_count": null,
   "id": "353e7d36",
   "metadata": {},
   "outputs": [],
   "source": []
  }
 ],
 "metadata": {
  "kernelspec": {
   "display_name": "Python 3 (ipykernel)",
   "language": "python",
   "name": "python3"
  },
  "language_info": {
   "codemirror_mode": {
    "name": "ipython",
    "version": 3
   },
   "file_extension": ".py",
   "mimetype": "text/x-python",
   "name": "python",
   "nbconvert_exporter": "python",
   "pygments_lexer": "ipython3",
   "version": "3.8.0"
  }
 },
 "nbformat": 4,
 "nbformat_minor": 5
}
