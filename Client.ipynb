{
 "cells": [
  {
   "cell_type": "code",
   "execution_count": 1,
   "id": "12b6fdfb",
   "metadata": {},
   "outputs": [
    {
     "name": "stdout",
     "output_type": "stream",
     "text": [
      "Requirement already satisfied: numpy==1.18.5 in c:\\users\\admin\\anaconda3\\envs\\py38\\lib\\site-packages (from -r requirements.txt (line 1)) (1.18.5)\n",
      "Requirement already satisfied: opencv-python==4.1.2.30 in c:\\users\\admin\\anaconda3\\envs\\py38\\lib\\site-packages (from -r requirements.txt (line 2)) (4.1.2.30)\n",
      "Requirement already satisfied: sockets==1.0.0 in c:\\users\\admin\\anaconda3\\envs\\py38\\lib\\site-packages (from -r requirements.txt (line 3)) (1.0.0)\n",
      "Requirement already satisfied: pycryptodome==3.12.0 in c:\\users\\admin\\anaconda3\\envs\\py38\\lib\\site-packages (from -r requirements.txt (line 4)) (3.12.0)\n",
      "Note: you may need to restart the kernel to use updated packages.\n"
     ]
    }
   ],
   "source": [
    "%pip install -r requirements.txt"
   ]
  },
  {
   "cell_type": "code",
   "execution_count": 2,
   "id": "e5c2c7d2",
   "metadata": {},
   "outputs": [],
   "source": [
    "import socket\n",
    "import numpy as np\n",
    "from hashlib import md5\n",
    "from Crypto.Cipher import AES\n",
    "import os\n",
    "import glob\n",
    "import time\n",
    "from Crypto import Random\n",
    "from os import urandom\n",
    "import tkinter as tk\n",
    "from tkinter import *"
   ]
  },
  {
   "cell_type": "code",
   "execution_count": 3,
   "id": "ced0f31d",
   "metadata": {},
   "outputs": [],
   "source": [
    "HOST='localhost'\n",
    "PORT=8000\n",
    "# WIDTH = 960\n",
    "# HEIGHT = 540\n",
    "SC = socket.socket(socket.AF_INET, socket.SOCK_STREAM)\n",
    "server_address = (HOST, PORT)"
   ]
  },
  {
   "cell_type": "code",
   "execution_count": 4,
   "id": "666d5ff2",
   "metadata": {},
   "outputs": [],
   "source": [
    "def generateAESKey(key_string, len_key):\n",
    "    '''Generate 128/192/256 bit key from any key'''\n",
    "    key = bytes(key_string,\"utf8\")\n",
    "    while len(key)<len_key:\n",
    "        key = key + key\n",
    "    return key[:len_key]\n",
    "\n",
    "def make_folder(folder_name):\n",
    "    path_f = os.path.abspath('')\n",
    "    if os.path.isdir(path_f+\"/\"+folder_name) == False:\n",
    "        os.mkdir(path_f+\"/\"+folder_name)\n",
    "    list_folder = glob.glob(path_f+\"/\"+folder_name+\"/*\")\n",
    "    max=0\n",
    "    for i in list_folder:\n",
    "        try:\n",
    "            num = int(i.split(\"-\")[1])\n",
    "            if(max<num): max = num\n",
    "        except: continue\n",
    "    path = path_f+\"/\"+folder_name+\"/data-\"+str(max+1)\n",
    "    os.mkdir(path)\n",
    "    return path\n",
    "\n",
    "# connect to client\n",
    "def connect(sc, server_address):\n",
    "    print(\"Connecting to the server...\")\n",
    "    while True:\n",
    "        try:\n",
    "            sc.connect(server_address)\n",
    "            break\n",
    "        except:\n",
    "            ()\n",
    "    print(\"[Connected]\", server_address)\n",
    "    return sc"
   ]
  },
  {
   "cell_type": "code",
   "execution_count": 5,
   "id": "80911f64",
   "metadata": {},
   "outputs": [],
   "source": [
    "def derive_key_and_iv(key, salt, key_length, iv_length):\n",
    "    d = d_i = b''\n",
    "    while len(d) < key_length + iv_length:\n",
    "        d_i = md5(d_i + key + salt).digest()\n",
    "        d += d_i\n",
    "    return d[:key_length], d[key_length:key_length+iv_length]\n",
    "\n",
    "def encrypt(in_file, out_file, key, key_length=32):\n",
    "    bs = AES.block_size #16 bytes\n",
    "    salt = urandom(bs) #return a string of random bytes\n",
    "    key, iv = derive_key_and_iv(key, salt, key_length, bs)\n",
    "    cipher = AES.new(key, AES.MODE_CBC, iv)\n",
    "    out_file.write(salt)\n",
    "    finished = False\n",
    "\n",
    "    while not finished:\n",
    "        chunk = in_file.read(1024 * bs) \n",
    "        if len(chunk) == 0 or len(chunk) % bs != 0:#final block/chunk is padded before encryption\n",
    "            padding_length = (bs - len(chunk) % bs) or bs\n",
    "            chunk += str.encode(padding_length * chr(padding_length))\n",
    "            finished = True\n",
    "        out_file.write(cipher.encrypt(chunk))\n",
    "        \n",
    "def decrypt(in_file, out_file, key, key_length=32):\n",
    "    bs = AES.block_size\n",
    "    salt = in_file.read(bs)\n",
    "    key, iv = derive_key_and_iv(key, salt, key_length, bs)\n",
    "    cipher = AES.new(key, AES.MODE_CBC, iv)\n",
    "    next_chunk = ''\n",
    "    finished = False\n",
    "    while not finished:\n",
    "        chunk, next_chunk = next_chunk, cipher.decrypt(in_file.read(1024 * bs))\n",
    "        if len(next_chunk) == 0:\n",
    "            padding_length = chunk[-1]\n",
    "            chunk = chunk[:-padding_length]\n",
    "            finished = True \n",
    "        out_file.write(bytes(x for x in chunk)) "
   ]
  },
  {
   "cell_type": "code",
   "execution_count": 6,
   "id": "68663e8d",
   "metadata": {},
   "outputs": [],
   "source": [
    " # Create folder to save data\n",
    "save_path = make_folder(\"Client_folder\")"
   ]
  },
  {
   "cell_type": "code",
   "execution_count": 7,
   "id": "70d77a03",
   "metadata": {},
   "outputs": [],
   "source": [
    "def RecvMess(sc, key):\n",
    "    print(\"Waiting for Server...\")\n",
    "    \n",
    "   \n",
    "    \n",
    "    #Receive data\n",
    "    data_enc = sc.recv(1024)\n",
    "    s_time = time.time()   \n",
    "    sc.send(b\"Done\")\n",
    "#     print(len(data_enc))\n",
    "    \n",
    "    \n",
    "    # Save Data\n",
    "    f_data_enc = open(save_path+\"/Data-received-from-server.txt\", \"wb\")\n",
    "    f_data_enc.write(data_enc)\n",
    "    f_data_enc.close()\n",
    "    rec_time = time.time()\n",
    "    print(\" - Received data: %d KB (%.3f seconds)\" %(int(len(data_enc)/1024),rec_time-s_time))\n",
    "\n",
    "    # Decode Data\n",
    "    in_file= open(save_path+\"/Data-received-from-server.txt\", \"rb\") \n",
    "    out_file = open(save_path+\"/Data-decoded.txt\", \"wb\")\n",
    "    decrypt(in_file, out_file, key)                             #decode\n",
    "    in_file.close()\n",
    "    out_file.close()\n",
    "    aes_time =  time.time()\n",
    "    print(\" - Decoded AES. (%.3f seconds)\" )\n",
    "    "
   ]
  },
  {
   "cell_type": "code",
   "execution_count": 8,
   "id": "8dcb74c4",
   "metadata": {},
   "outputs": [
    {
     "name": "stdout",
     "output_type": "stream",
     "text": [
      "Your AES key:  b'Group_6Group_6Gr'\n"
     ]
    }
   ],
   "source": [
    "key = \"Group_6\"\n",
    "\n",
    "key_AES = generateAESKey(key, 16) # create AES key (128bit)\n",
    "print(\"Your AES key: \", key_AES)"
   ]
  },
  {
   "cell_type": "code",
   "execution_count": 9,
   "id": "22b0c781",
   "metadata": {},
   "outputs": [
    {
     "name": "stdout",
     "output_type": "stream",
     "text": [
      "Connecting to the server...\n",
      "[Connected] ('localhost', 8000)\n"
     ]
    }
   ],
   "source": [
    "SC = connect(SC, server_address)"
   ]
  },
  {
   "cell_type": "code",
   "execution_count": 10,
   "id": "90dcc26e",
   "metadata": {},
   "outputs": [
    {
     "name": "stdout",
     "output_type": "stream",
     "text": [
      "Waiting for Server...\n",
      " - Received data: 0 KB (0.001 seconds)\n",
      " - Decoded AES. (%.3f seconds)\n"
     ]
    }
   ],
   "source": [
    "RecvMess(SC, key_AES)"
   ]
  },
  {
   "cell_type": "code",
   "execution_count": 11,
   "id": "7d252a03",
   "metadata": {},
   "outputs": [],
   "source": [
    "window = Tk()\n",
    "window.title('Client Window')\n",
    "window.geometry('600x600')\n",
    "\n",
    "label = Label(window, text = \"What u want to see ?\", font = ('Arial', 10))\n",
    "label.place(x = 30, y = 20)\n",
    "# entry = Entry(window, width = 20, font = ('Arial', 10))\n",
    "# entry.place(x=30, y = 50)\n",
    "textBox=Text(window , height=4, width=50)\n",
    "textBox.place(x=30, y = 150)\n",
    "def data_rec():\n",
    "    f_data_rec = open(save_path+\"/Data-decoded.txt\", \"r\")\n",
    "    data_rec = f_data_rec.read()\n",
    "    f_data_rec.close()\n",
    "    return data_rec\n",
    "def data_enc():\n",
    "    f_data_enc = open(save_path+\"/Data-received-from-server.txt\", \"rb\")\n",
    "    data_enc = f_data_enc.read()\n",
    "    f_data_enc.close()\n",
    "    return data_enc\n",
    "    \n",
    "def button_command1():\n",
    "    data = data_rec()\n",
    "    textBox.insert('end',data)\n",
    "    pass\n",
    "def button_command2():\n",
    "    data = data_enc()\n",
    "    textBox.insert('end',data)\n",
    "    pass\n",
    "\n",
    "\n",
    "button1 = Button(window, text = \"After decode\", width = 10, height = 2, command = button_command1)\n",
    "button1.place(x = 40, y = 50)\n",
    "button2 = Button(window, text = \"Before decode\", width = 10, height = 2, command = button_command2)\n",
    "button2.place(x = 60, y = 50)\n",
    "\n",
    "#Lặp vô tận để hiển thị cửa sổ\n",
    "window.mainloop()"
   ]
  },
  {
   "cell_type": "code",
   "execution_count": 12,
   "id": "b53e7ff9",
   "metadata": {},
   "outputs": [],
   "source": [
    "SC.close()"
   ]
  },
  {
   "cell_type": "code",
   "execution_count": null,
   "id": "5fbfc986",
   "metadata": {},
   "outputs": [],
   "source": []
  },
  {
   "cell_type": "code",
   "execution_count": null,
   "id": "2482578c",
   "metadata": {},
   "outputs": [],
   "source": []
  }
 ],
 "metadata": {
  "kernelspec": {
   "display_name": "Python 3 (ipykernel)",
   "language": "python",
   "name": "python3"
  },
  "language_info": {
   "codemirror_mode": {
    "name": "ipython",
    "version": 3
   },
   "file_extension": ".py",
   "mimetype": "text/x-python",
   "name": "python",
   "nbconvert_exporter": "python",
   "pygments_lexer": "ipython3",
   "version": "3.8.0"
  }
 },
 "nbformat": 4,
 "nbformat_minor": 5
}
